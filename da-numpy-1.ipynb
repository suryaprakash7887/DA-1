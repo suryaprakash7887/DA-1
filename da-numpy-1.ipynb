{
 "cells": [
  {
   "cell_type": "code",
   "execution_count": 1,
   "id": "0b887628",
   "metadata": {},
   "outputs": [],
   "source": [
    "import numpy as np"
   ]
  },
  {
   "cell_type": "code",
   "execution_count": null,
   "id": "6fa757ac",
   "metadata": {},
   "outputs": [],
   "source": [
    "#1) Write a program to create a 5 dimensional array with all zeros and ones.\n"
   ]
  },
  {
   "cell_type": "code",
   "execution_count": 1,
   "id": "b4e3903b",
   "metadata": {},
   "outputs": [],
   "source": [
    "#2) Write a program to create an array of 10 zeros,10 ones, and 10 fives in row 1 2 and 3 which create a new array of shape (3,10)"
   ]
  },
  {
   "cell_type": "code",
   "execution_count": 12,
   "id": "c7beed73",
   "metadata": {},
   "outputs": [
    {
     "data": {
      "text/plain": [
       "array([[0, 0, 0, 0, 0, 0, 0, 0, 0, 0],\n",
       "       [1, 1, 1, 1, 1, 1, 1, 1, 1, 1],\n",
       "       [5, 5, 5, 5, 5, 5, 5, 5, 5, 5]])"
      ]
     },
     "execution_count": 12,
     "metadata": {},
     "output_type": "execute_result"
    }
   ],
   "source": [
    "var=np.array((np.zeros(10),np.ones(10),np.full(10,5)),dtype=int)\n",
    "var\n"
   ]
  },
  {
   "cell_type": "code",
   "execution_count": 13,
   "id": "5f84b665",
   "metadata": {},
   "outputs": [],
   "source": [
    "#3) Write a program to create a 3x4 matrix filled with values from 10 to 21."
   ]
  },
  {
   "cell_type": "code",
   "execution_count": 17,
   "id": "d4c93ff1",
   "metadata": {},
   "outputs": [],
   "source": [
    "array1=np.arange(10,22).reshape(3,4)"
   ]
  },
  {
   "cell_type": "code",
   "execution_count": 18,
   "id": "6be111e7",
   "metadata": {},
   "outputs": [
    {
     "data": {
      "text/plain": [
       "array([[10, 11, 12, 13],\n",
       "       [14, 15, 16, 17],\n",
       "       [18, 19, 20, 21]])"
      ]
     },
     "execution_count": 18,
     "metadata": {},
     "output_type": "execute_result"
    }
   ],
   "source": [
    "array1"
   ]
  },
  {
   "cell_type": "code",
   "execution_count": 19,
   "id": "4604eb0e",
   "metadata": {},
   "outputs": [],
   "source": [
    "#4)Write a program to create a 10x10 zero matrix with elements on the main diagonal equal to 0,1,2,3,4,5,6,7,8,9."
   ]
  },
  {
   "cell_type": "code",
   "execution_count": 28,
   "id": "16625692",
   "metadata": {},
   "outputs": [],
   "source": [
    "array1=np.diag((0,1,2,3,4,5,6,7,8,9))"
   ]
  },
  {
   "cell_type": "code",
   "execution_count": 29,
   "id": "1a07d825",
   "metadata": {},
   "outputs": [
    {
     "data": {
      "text/plain": [
       "array([[0, 0, 0, 0, 0, 0, 0, 0, 0, 0],\n",
       "       [0, 1, 0, 0, 0, 0, 0, 0, 0, 0],\n",
       "       [0, 0, 2, 0, 0, 0, 0, 0, 0, 0],\n",
       "       [0, 0, 0, 3, 0, 0, 0, 0, 0, 0],\n",
       "       [0, 0, 0, 0, 4, 0, 0, 0, 0, 0],\n",
       "       [0, 0, 0, 0, 0, 5, 0, 0, 0, 0],\n",
       "       [0, 0, 0, 0, 0, 0, 6, 0, 0, 0],\n",
       "       [0, 0, 0, 0, 0, 0, 0, 7, 0, 0],\n",
       "       [0, 0, 0, 0, 0, 0, 0, 0, 8, 0],\n",
       "       [0, 0, 0, 0, 0, 0, 0, 0, 0, 9]])"
      ]
     },
     "execution_count": 29,
     "metadata": {},
     "output_type": "execute_result"
    }
   ],
   "source": [
    "array1"
   ]
  },
  {
   "cell_type": "code",
   "execution_count": 30,
   "id": "efd748a5",
   "metadata": {},
   "outputs": [],
   "source": [
    "#5)Write a program to create a 4x4 array. Create an array from below array by swapping first and last, second and third columns."
   ]
  },
  {
   "cell_type": "code",
   "execution_count": 34,
   "id": "60b2eb45",
   "metadata": {},
   "outputs": [],
   "source": [
    "array2=np.arange(1,17).reshape(4,4)"
   ]
  },
  {
   "cell_type": "code",
   "execution_count": 35,
   "id": "dfe37b2f",
   "metadata": {},
   "outputs": [
    {
     "data": {
      "text/plain": [
       "array([[ 1,  2,  3,  4],\n",
       "       [ 5,  6,  7,  8],\n",
       "       [ 9, 10, 11, 12],\n",
       "       [13, 14, 15, 16]])"
      ]
     },
     "execution_count": 35,
     "metadata": {},
     "output_type": "execute_result"
    }
   ],
   "source": [
    "array2"
   ]
  },
  {
   "cell_type": "code",
   "execution_count": 36,
   "id": "c9580954",
   "metadata": {},
   "outputs": [
    {
     "data": {
      "text/plain": [
       "array([[ 4,  3,  2,  1],\n",
       "       [ 8,  7,  6,  5],\n",
       "       [12, 11, 10,  9],\n",
       "       [16, 15, 14, 13]])"
      ]
     },
     "execution_count": 36,
     "metadata": {},
     "output_type": "execute_result"
    }
   ],
   "source": [
    "array2[:,[0,-1]]=array2[:,[-1,0]]\n",
    "array2[:,[1,2]]=array2[:,[2,1]]\n",
    "array2"
   ]
  },
  {
   "cell_type": "code",
   "execution_count": 37,
   "id": "62dd2254",
   "metadata": {},
   "outputs": [],
   "source": [
    "#6) Write a program to reverse an array (the first element becomes the last).Given array: [12 13 14 15 16 17 18 19 20 21 22 23 24 25 26 27 ]"
   ]
  },
  {
   "cell_type": "code",
   "execution_count": 38,
   "id": "396c35d4",
   "metadata": {},
   "outputs": [],
   "source": [
    "surya=np.arange(12,28)"
   ]
  },
  {
   "cell_type": "code",
   "execution_count": 41,
   "id": "d1c043b7",
   "metadata": {},
   "outputs": [
    {
     "data": {
      "text/plain": [
       "array([27, 26, 25, 24, 23, 22, 21, 20, 19, 18, 17, 16, 15, 14, 13, 12])"
      ]
     },
     "execution_count": 41,
     "metadata": {},
     "output_type": "execute_result"
    }
   ],
   "source": [
    "surya[::-1]"
   ]
  },
  {
   "cell_type": "code",
   "execution_count": 42,
   "id": "7cf0bb03",
   "metadata": {},
   "outputs": [],
   "source": [
    "#7) Write a program to access all the elements greater than 30 and less than 80 and multiples of 5 from an array of shape 10,10 .Elements range from 1 to 100"
   ]
  },
  {
   "cell_type": "code",
   "execution_count": 62,
   "id": "56f8ebbc",
   "metadata": {},
   "outputs": [
    {
     "data": {
      "text/plain": [
       "array([[  1,   2,   3,   4,   5,   6,   7,   8,   9,  10],\n",
       "       [ 11,  12,  13,  14,  15,  16,  17,  18,  19,  20],\n",
       "       [ 21,  22,  23,  24,  25,  26,  27,  28,  29,  30],\n",
       "       [ 31,  32,  33,  34,  35,  36,  37,  38,  39,  40],\n",
       "       [ 41,  42,  43,  44,  45,  46,  47,  48,  49,  50],\n",
       "       [ 51,  52,  53,  54,  55,  56,  57,  58,  59,  60],\n",
       "       [ 61,  62,  63,  64,  65,  66,  67,  68,  69,  70],\n",
       "       [ 71,  72,  73,  74,  75,  76,  77,  78,  79,  80],\n",
       "       [ 81,  82,  83,  84,  85,  86,  87,  88,  89,  90],\n",
       "       [ 91,  92,  93,  94,  95,  96,  97,  98,  99, 100]])"
      ]
     },
     "execution_count": 62,
     "metadata": {},
     "output_type": "execute_result"
    }
   ],
   "source": [
    "array=np.arange(1,101)\n",
    "array.shape=(10,10)\n",
    "array"
   ]
  },
  {
   "cell_type": "code",
   "execution_count": 63,
   "id": "8ad680c9",
   "metadata": {},
   "outputs": [
    {
     "data": {
      "text/plain": [
       "array([35, 40, 45, 50, 55, 60, 65, 70, 75])"
      ]
     },
     "execution_count": 63,
     "metadata": {},
     "output_type": "execute_result"
    }
   ],
   "source": [
    "array=array[array>30]\n",
    "array=array[array<80]\n",
    "array[array%5==0]"
   ]
  },
  {
   "cell_type": "code",
   "execution_count": 64,
   "id": "15f01254",
   "metadata": {},
   "outputs": [
    {
     "data": {
      "text/plain": [
       "array([35, 40, 45, 50, 55, 60, 65, 70, 75])"
      ]
     },
     "execution_count": 64,
     "metadata": {},
     "output_type": "execute_result"
    }
   ],
   "source": [
    "array=array[array>30]\n",
    "array=array[array<80]\n",
    "array[array%5==0]"
   ]
  },
  {
   "cell_type": "code",
   "execution_count": 65,
   "id": "a0eb90b2",
   "metadata": {},
   "outputs": [],
   "source": [
    "#8) Write a program to create a 2D array with 1 on the border and 0 inside.\n"
   ]
  },
  {
   "cell_type": "code",
   "execution_count": 5,
   "id": "9bf73d55",
   "metadata": {},
   "outputs": [],
   "source": [
    "array4=np.ones((5,5),dtype=int)"
   ]
  },
  {
   "cell_type": "code",
   "execution_count": 6,
   "id": "2105f440",
   "metadata": {},
   "outputs": [
    {
     "data": {
      "text/plain": [
       "array([[1, 1, 1, 1, 1],\n",
       "       [1, 1, 1, 1, 1],\n",
       "       [1, 1, 1, 1, 1],\n",
       "       [1, 1, 1, 1, 1],\n",
       "       [1, 1, 1, 1, 1]])"
      ]
     },
     "execution_count": 6,
     "metadata": {},
     "output_type": "execute_result"
    }
   ],
   "source": [
    "array4"
   ]
  },
  {
   "cell_type": "code",
   "execution_count": 7,
   "id": "123cfc04",
   "metadata": {},
   "outputs": [
    {
     "data": {
      "text/plain": [
       "array([[1, 1, 1, 1, 1],\n",
       "       [1, 0, 0, 0, 1],\n",
       "       [1, 0, 0, 0, 1],\n",
       "       [1, 0, 0, 0, 1],\n",
       "       [1, 1, 1, 1, 1]])"
      ]
     },
     "execution_count": 7,
     "metadata": {},
     "output_type": "execute_result"
    }
   ],
   "source": [
    "array4[1:4,1:4]=0\n",
    "array4"
   ]
  },
  {
   "cell_type": "code",
   "execution_count": 8,
   "id": "de525b96",
   "metadata": {},
   "outputs": [],
   "source": [
    "#9) Write a program to create a checkerboard pattern .Don't use default array function\n"
   ]
  },
  {
   "cell_type": "code",
   "execution_count": 9,
   "id": "2478eb2a",
   "metadata": {},
   "outputs": [],
   "source": [
    "#10) Write a program to find common values between two arrays."
   ]
  },
  {
   "cell_type": "code",
   "execution_count": 12,
   "id": "57cf185d",
   "metadata": {},
   "outputs": [
    {
     "data": {
      "text/plain": [
       "array([10, 40, 70])"
      ]
     },
     "execution_count": 12,
     "metadata": {},
     "output_type": "execute_result"
    }
   ],
   "source": [
    "array1=np.array([10,20,40,60,70])\n",
    "array2=np.array([10,30,40,70,80])\n",
    "np.intersect1d(array1,array2)\n"
   ]
  },
  {
   "cell_type": "code",
   "execution_count": 13,
   "id": "010ed35a",
   "metadata": {},
   "outputs": [],
   "source": [
    "#11) Write a program to create an array 2d array and then reshape into 1d array"
   ]
  },
  {
   "cell_type": "code",
   "execution_count": 15,
   "id": "d41116aa",
   "metadata": {},
   "outputs": [],
   "source": [
    "array5=np.array([[1,2,3,4],[5,6,7,8]])"
   ]
  },
  {
   "cell_type": "code",
   "execution_count": 16,
   "id": "5f0bda4e",
   "metadata": {},
   "outputs": [
    {
     "data": {
      "text/plain": [
       "array([[1, 2, 3, 4],\n",
       "       [5, 6, 7, 8]])"
      ]
     },
     "execution_count": 16,
     "metadata": {},
     "output_type": "execute_result"
    }
   ],
   "source": [
    "array5"
   ]
  },
  {
   "cell_type": "code",
   "execution_count": 22,
   "id": "cd6d8f63",
   "metadata": {},
   "outputs": [
    {
     "data": {
      "text/plain": [
       "array([1, 2, 3, 4, 5, 6, 7, 8])"
      ]
     },
     "execution_count": 22,
     "metadata": {},
     "output_type": "execute_result"
    }
   ],
   "source": [
    "array5.reshape(8)"
   ]
  },
  {
   "cell_type": "code",
   "execution_count": null,
   "id": "db8e0292",
   "metadata": {},
   "outputs": [],
   "source": [
    "#12) Write a user defined function for creating a 1 or 2d array from scratch without using array functions\n"
   ]
  },
  {
   "cell_type": "code",
   "execution_count": null,
   "id": "48fba645",
   "metadata": {},
   "outputs": [],
   "source": []
  }
 ],
 "metadata": {
  "kernelspec": {
   "display_name": "Python 3 (ipykernel)",
   "language": "python",
   "name": "python3"
  },
  "language_info": {
   "codemirror_mode": {
    "name": "ipython",
    "version": 3
   },
   "file_extension": ".py",
   "mimetype": "text/x-python",
   "name": "python",
   "nbconvert_exporter": "python",
   "pygments_lexer": "ipython3",
   "version": "3.11.3"
  }
 },
 "nbformat": 4,
 "nbformat_minor": 5
}
