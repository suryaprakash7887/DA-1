{
 "cells": [
  {
   "cell_type": "code",
   "execution_count": 1,
   "id": "f10ef1db",
   "metadata": {},
   "outputs": [],
   "source": [
    "import numpy as np"
   ]
  },
  {
   "cell_type": "code",
   "execution_count": 2,
   "id": "fe2924da",
   "metadata": {},
   "outputs": [],
   "source": [
    "x=np.genfromtxt(r\"C:\\Users\\SURYA\\Downloads\\tipsf.csv\",delimiter=\",\",skip_header=1)"
   ]
  },
  {
   "cell_type": "code",
   "execution_count": 12,
   "id": "b9dccb08",
   "metadata": {},
   "outputs": [
    {
     "data": {
      "text/plain": [
       "array([[  0.  ,  16.99,   1.01, ...,   1.  ,   0.  ,   2.  ],\n",
       "       [  1.  ,  10.34,   1.66, ...,   1.  ,   0.  ,   3.  ],\n",
       "       [  2.  ,  21.01,   3.5 , ...,   1.  ,   0.  ,   3.  ],\n",
       "       ...,\n",
       "       [241.  ,  22.67,   2.  , ...,   0.  ,   0.  ,   2.  ],\n",
       "       [242.  ,  17.82,   1.75, ...,   0.  ,   0.  ,   2.  ],\n",
       "       [243.  ,  18.78,   3.  , ...,   2.  ,   0.  ,   2.  ]])"
      ]
     },
     "execution_count": 12,
     "metadata": {},
     "output_type": "execute_result"
    }
   ],
   "source": [
    "x"
   ]
  },
  {
   "cell_type": "code",
   "execution_count": 10,
   "id": "c6f77219",
   "metadata": {},
   "outputs": [],
   "source": [
    "#1).what is the total bill value?"
   ]
  },
  {
   "cell_type": "code",
   "execution_count": 4,
   "id": "ca75cae7",
   "metadata": {},
   "outputs": [
    {
     "data": {
      "text/plain": [
       "4827.77"
      ]
     },
     "execution_count": 4,
     "metadata": {},
     "output_type": "execute_result"
    }
   ],
   "source": [
    "np.sum(x[:,1])"
   ]
  },
  {
   "cell_type": "code",
   "execution_count": 5,
   "id": "96f731e2",
   "metadata": {},
   "outputs": [],
   "source": [
    "#2.what is the total tip value"
   ]
  },
  {
   "cell_type": "code",
   "execution_count": 7,
   "id": "43dd47e8",
   "metadata": {},
   "outputs": [
    {
     "data": {
      "text/plain": [
       "731.5799999999999"
      ]
     },
     "execution_count": 7,
     "metadata": {},
     "output_type": "execute_result"
    }
   ],
   "source": [
    "np.sum(x[:,2])"
   ]
  },
  {
   "cell_type": "code",
   "execution_count": 9,
   "id": "a29f3894",
   "metadata": {},
   "outputs": [
    {
     "name": "stdout",
     "output_type": "stream",
     "text": [
      "sunday= 87\n",
      "saturday= 76\n",
      "thursaday= 62\n",
      "friday= 19\n"
     ]
    }
   ],
   "source": [
    "#3.count how many number os sat,sun,thu,fri are there\n",
    "k=np.unique(x[:,5],return_counts=True)\n",
    "m,n=k\n",
    "j=0\n",
    "for i in m:\n",
    "    if (i==0):\n",
    "        print(\"sunday=\",n[j])\n",
    "        j+=1\n",
    "    elif (i==1):\n",
    "        print(\"saturday=\",n[j])\n",
    "        j+=1\n",
    "    elif (i==2):\n",
    "        print(\"thursaday=\",n[j])\n",
    "        j+=1\n",
    "    elif (i==3):\n",
    "        print(\"friday=\",n[j])\n",
    "        j+=1 "
   ]
  },
  {
   "cell_type": "code",
   "execution_count": 11,
   "id": "8123b29d",
   "metadata": {},
   "outputs": [
    {
     "data": {
      "text/plain": [
       "93"
      ]
     },
     "execution_count": 11,
     "metadata": {},
     "output_type": "execute_result"
    }
   ],
   "source": [
    "#4.how many smokers are there\n",
    "np.sum(x[:,4],dtype=int)"
   ]
  },
  {
   "cell_type": "code",
   "execution_count": 13,
   "id": "e8130809",
   "metadata": {},
   "outputs": [
    {
     "name": "stdout",
     "output_type": "stream",
     "text": [
      "2.8334482758620685 average tip given by female\n",
      "3.0896178343949043 average tip given by male\n"
     ]
    }
   ],
   "source": [
    "#5.whats is the average tip given by men and women\n",
    "r=np.sum(x[:,2].take(np.where(x[:,3]==0)))\n",
    "k=np.sum(x[:,2].take(np.where(x[:,3]==1)))\n",
    "b=np.unique(x[:,3],return_counts=True)\n",
    "q,a=b\n",
    "print(r/a[0],\"average tip given by female\")\n",
    "print(k/a[1],\"average tip given by male\")"
   ]
  },
  {
   "cell_type": "code",
   "execution_count": 15,
   "id": "4875ef28",
   "metadata": {},
   "outputs": [
    {
     "name": "stdout",
     "output_type": "stream",
     "text": [
      "total amount spent by female:  1571.0\n",
      "total amount spent by male:  3257.0\n"
     ]
    }
   ],
   "source": [
    "#6.how much money spent by men and women\n",
    "a=np.sum(x[:,1].take(np.where(x[:,3]==0)))\n",
    "b=np.sum(x[:,1].take(np.where(x[:,3]==1)))\n",
    "print(\"total amount spent by female: \",np.round(a))\n",
    "print(\"total amount spent by male: \",np.round(b))"
   ]
  },
  {
   "cell_type": "code",
   "execution_count": 17,
   "id": "71da1f0a",
   "metadata": {},
   "outputs": [
    {
     "name": "stdout",
     "output_type": "stream",
     "text": [
      "min of tip 1.0\n",
      "max of tip 10.0\n"
     ]
    }
   ],
   "source": [
    "#7.what is min and max tip given\n",
    "k=np.min(x[:,2])\n",
    "m=np.max(x[:,2])\n",
    "print(\"min of tip\",k)\n",
    "print(\"max of tip\",m)"
   ]
  },
  {
   "cell_type": "code",
   "execution_count": 19,
   "id": "d55b244d",
   "metadata": {},
   "outputs": [
    {
     "name": "stdout",
     "output_type": "stream",
     "text": [
      "average of size =  3.0\n"
     ]
    }
   ],
   "source": [
    "#9.find out average size\n",
    "k=np.unique(x[:,7],return_counts=True)\n",
    "a,b=k\n",
    "avg=np.sum(x[:,7])/np.sum(b)\n",
    "print(\"average of size = \",np.round(avg))"
   ]
  },
  {
   "cell_type": "code",
   "execution_count": 21,
   "id": "33f40b1f",
   "metadata": {},
   "outputs": [
    {
     "name": "stdout",
     "output_type": "stream",
     "text": [
      "female smokers are : 33\n",
      "male smokers are : 60\n"
     ]
    }
   ],
   "source": [
    "#10.how many female and male smokers are there\n",
    "k=np.unique(x[:,3].take(np.where((x[:,4]==1))),return_counts=True)\n",
    "a,b=k\n",
    "for i in a:\n",
    "    if (i==0):\n",
    "        print(\"female smokers are :\",b[0])\n",
    "    else:\n",
    "        print(\"male smokers are :\",b[1])"
   ]
  }
 ],
 "metadata": {
  "kernelspec": {
   "display_name": "Python 3 (ipykernel)",
   "language": "python",
   "name": "python3"
  },
  "language_info": {
   "codemirror_mode": {
    "name": "ipython",
    "version": 3
   },
   "file_extension": ".py",
   "mimetype": "text/x-python",
   "name": "python",
   "nbconvert_exporter": "python",
   "pygments_lexer": "ipython3",
   "version": "3.11.3"
  }
 },
 "nbformat": 4,
 "nbformat_minor": 5
}
